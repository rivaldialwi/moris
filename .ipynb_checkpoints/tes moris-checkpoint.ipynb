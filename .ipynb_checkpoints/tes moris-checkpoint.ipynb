{
 "cells": [
  {
   "cell_type": "code",
   "execution_count": 1,
   "id": "02e014ac",
   "metadata": {},
   "outputs": [],
   "source": [
    "import pandas as pd\n",
    "import re\n",
    "import matplotlib.pyplot as plt\n",
    "import nltk\n",
    "from nltk.corpus import stopwords\n",
    "from nltk.stem import PorterStemmer\n",
    "from nltk.tokenize import word_tokenize\n",
    "from sklearn.model_selection import train_test_split\n",
    "from sklearn.feature_extraction.text import TfidfVectorizer\n",
    "from sklearn.linear_model import LogisticRegression\n",
    "from sklearn.metrics import accuracy_score, precision_score, recall_score\n",
    "import joblib\n",
    "from Sastrawi.Stemmer.StemmerFactory import StemmerFactory"
   ]
  },
  {
   "cell_type": "code",
   "execution_count": 2,
   "id": "3f9aca9e",
   "metadata": {},
   "outputs": [
    {
     "name": "stdout",
     "output_type": "stream",
     "text": [
      "Index(['Unnamed: 0', 'Username', 'Link', 'Text', 'Human', 'Chat GPT', 'Date'], dtype='object')\n",
      "Lima baris pertama dari dataset:\n",
      "   Unnamed: 0           Username                                       Link  \\\n",
      "0         NaN          singkongn          https://www.tiktok.com/@singkongn   \n",
      "1         NaN     sayangku.277k8     https://www.tiktok.com/@sayangku.277k8   \n",
      "2         NaN      dwiyunita5590      https://www.tiktok.com/@dwiyunita5590   \n",
      "3         NaN  user9389223675880  https://www.tiktok.com/@user9389223675880   \n",
      "4         NaN       endahyumna07       https://www.tiktok.com/@endahyumna07   \n",
      "\n",
      "                                                Text    Human Chat GPT  \\\n",
      "0                   Metropolis wangi nya enak banget  Positif  Positif   \n",
      "1                                      mau dong mbak   Netral   Netral   \n",
      "2                                    yah, stok habis  Negatif  Negatif   \n",
      "3  rekomendasi yang buat cewe kalau di pakai sian...   Netral   Netral   \n",
      "4  tidak bisa di bagian dalam siku dan di leher, ...  Negatif  Negatif   \n",
      "\n",
      "         Date  \n",
      "0  15/01/2024  \n",
      "1  14/01/2024  \n",
      "2  11/01/2024  \n",
      "3  11/01/2024  \n",
      "4  11/01/2024  \n"
     ]
    },
    {
     "data": {
      "image/png": "[encoded data removed]",
      "text/plain": [
       "<Figure size 800x600 with 1 Axes>"
      ]
     },
     "metadata": {},
     "output_type": "display_data"
    }
   ],
   "source": [
    "# Membaca dataset dari file CSV\n",
    "df = pd.read_csv('data.csv')\n",
    "\n",
    "# Menampilkan nama-nama kolom dalam DataFrame\n",
    "print(df.columns)\n",
    "\n",
    "# Menampilkan lima baris pertama dari dataset\n",
    "print(\"Lima baris pertama dari dataset:\")\n",
    "print(df.head())\n",
    "\n",
    "# Menampilkan jumlah entri dengan sentimen negatif, netral, dan positif\n",
    "sentimen_count = df['Human'].value_counts()\n",
    "\n",
    "# Membuat plot diagram batang\n",
    "plt.figure(figsize=(8, 6))\n",
    "sentimen_count.plot(kind='bar', color=['green', 'red', 'grey'])\n",
    "plt.title('Jumlah Sentimen positif, negatif, dan netral')\n",
    "plt.xlabel('Sentimen')\n",
    "plt.ylabel('Jumlah')\n",
    "plt.xticks(rotation=0)\n",
    "plt.show()\n",
    "\n",
    "# Menghitung jumlah sentimen positif, netral, dan negatif\n",
    "positif_count = (df['Human'] == 'Positif').sum()\n",
    "netral_count = (df['Human'] == 'Netral').sum()\n",
    "negatif_count = (df['Human'] == 'Negatif').sum()"
   ]
  },
  {
   "cell_type": "code",
   "execution_count": 3,
   "id": "67bef145",
   "metadata": {},
   "outputs": [
    {
     "name": "stdout",
     "output_type": "stream",
     "text": [
      "Jumlah Sentimen Positif: 451\n",
      "Jumlah Sentimen Netral: 137\n",
      "Jumlah Sentimen Negatif: 412\n"
     ]
    }
   ],
   "source": [
    "# Menampilkan jumlah sentimen positif, netral, dan negatif\n",
    "print(\"Jumlah Sentimen Positif:\", positif_count)\n",
    "print(\"Jumlah Sentimen Netral:\", netral_count)\n",
    "print(\"Jumlah Sentimen Negatif:\", negatif_count)"
   ]
  },
  {
   "cell_type": "code",
   "execution_count": 4,
   "id": "91797606",
   "metadata": {},
   "outputs": [],
   "source": [
    "# PROSES CLEANSING DATA\n",
    "def clean_text(text):\n",
    "    text = re.sub(r'[^\\w\\s]', '', text)  # Menghapus tanda baca\n",
    "    text = text.lower()  # Mengubah teks menjadi huruf kecil\n",
    "    return text\n",
    "\n",
    "# Membersihkan kolom 'Text'\n",
    "df['Text'] = df['Text'].apply(clean_text)"
   ]
  },
  {
   "cell_type": "code",
   "execution_count": 5,
   "id": "d45fe097",
   "metadata": {},
   "outputs": [],
   "source": [
    "# PROSES CASE FOLDING\n",
    "df['Text'] = df['Text'].str.lower()"
   ]
  },
  {
   "cell_type": "code",
   "execution_count": 6,
   "id": "04e7fc84",
   "metadata": {},
   "outputs": [],
   "source": [
    "# PROSES STOPWORD REMOVAL\n",
    "stopwords_indo = set(stopwords.words('indonesian'))\n",
    "def remove_stopwords(text):\n",
    "    words = text.split()\n",
    "    filtered_words = [word for word in words if word not in stopwords_indo]\n",
    "    return ' '.join(filtered_words)\n",
    "df['Text'] = df['Text'].apply(remove_stopwords)"
   ]
  },
  {
   "cell_type": "code",
   "execution_count": 7,
   "id": "ca37c462",
   "metadata": {},
   "outputs": [],
   "source": [
    "# PROSES STEMMING\n",
    "factory = StemmerFactory()\n",
    "stemmer = factory.create_stemmer()\n",
    "def stemming(text):\n",
    "    stemmed_words = [stemmer.stem(word) for word in text.split()]\n",
    "    return ' '.join(stemmed_words)\n",
    "df['Text'] = df['Text'].apply(stemming)"
   ]
  },
  {
   "cell_type": "code",
   "execution_count": 8,
   "id": "1cfbc6bd",
   "metadata": {},
   "outputs": [],
   "source": [
    "# PROSES TOKENIZATION\n",
    "def tokenize(text):\n",
    "    tokens = word_tokenize(text)\n",
    "    return tokens\n",
    "df['Text'] = df['Text'].apply(tokenize)"
   ]
  },
  {
   "cell_type": "code",
   "execution_count": 9,
   "id": "c05a67df",
   "metadata": {},
   "outputs": [
    {
     "ename": "AttributeError",
     "evalue": "'list' object has no attribute 'lower'",
     "output_type": "error",
     "traceback": [
      "\u001b[1;31m---------------------------------------------------------------------------\u001b[0m",
      "\u001b[1;31mAttributeError\u001b[0m                            Traceback (most recent call last)",
      "Cell \u001b[1;32mIn[9], line 6\u001b[0m\n\u001b[0;32m      4\u001b[0m X_train, X_test, y_train, y_test \u001b[38;5;241m=\u001b[39m train_test_split(X, y, test_size\u001b[38;5;241m=\u001b[39m\u001b[38;5;241m0.2\u001b[39m, random_state\u001b[38;5;241m=\u001b[39m\u001b[38;5;241m42\u001b[39m)\n\u001b[0;32m      5\u001b[0m tfidf_vectorizer \u001b[38;5;241m=\u001b[39m TfidfVectorizer()\n\u001b[1;32m----> 6\u001b[0m X_train_tfidf \u001b[38;5;241m=\u001b[39m tfidf_vectorizer\u001b[38;5;241m.\u001b[39mfit_transform(X_train)\n\u001b[0;32m      7\u001b[0m X_test_tfidf \u001b[38;5;241m=\u001b[39m tfidf_vectorizer\u001b[38;5;241m.\u001b[39mtransform(X_test)\n\u001b[0;32m      8\u001b[0m \u001b[38;5;28mprint\u001b[39m(\u001b[38;5;124m\"\u001b[39m\u001b[38;5;124mDimensi matriks TF-IDF untuk data pelatihan:\u001b[39m\u001b[38;5;124m\"\u001b[39m, X_train_tfidf\u001b[38;5;241m.\u001b[39mshape)\n",
      "File \u001b[1;32m~\\anaconda3\\Lib\\site-packages\\sklearn\\feature_extraction\\text.py:2126\u001b[0m, in \u001b[0;36mTfidfVectorizer.fit_transform\u001b[1;34m(self, raw_documents, y)\u001b[0m\n\u001b[0;32m   2119\u001b[0m \u001b[38;5;28mself\u001b[39m\u001b[38;5;241m.\u001b[39m_check_params()\n\u001b[0;32m   2120\u001b[0m \u001b[38;5;28mself\u001b[39m\u001b[38;5;241m.\u001b[39m_tfidf \u001b[38;5;241m=\u001b[39m TfidfTransformer(\n\u001b[0;32m   2121\u001b[0m     norm\u001b[38;5;241m=\u001b[39m\u001b[38;5;28mself\u001b[39m\u001b[38;5;241m.\u001b[39mnorm,\n\u001b[0;32m   2122\u001b[0m     use_idf\u001b[38;5;241m=\u001b[39m\u001b[38;5;28mself\u001b[39m\u001b[38;5;241m.\u001b[39muse_idf,\n\u001b[0;32m   2123\u001b[0m     smooth_idf\u001b[38;5;241m=\u001b[39m\u001b[38;5;28mself\u001b[39m\u001b[38;5;241m.\u001b[39msmooth_idf,\n\u001b[0;32m   2124\u001b[0m     sublinear_tf\u001b[38;5;241m=\u001b[39m\u001b[38;5;28mself\u001b[39m\u001b[38;5;241m.\u001b[39msublinear_tf,\n\u001b[0;32m   2125\u001b[0m )\n\u001b[1;32m-> 2126\u001b[0m X \u001b[38;5;241m=\u001b[39m \u001b[38;5;28msuper\u001b[39m()\u001b[38;5;241m.\u001b[39mfit_transform(raw_documents)\n\u001b[0;32m   2127\u001b[0m \u001b[38;5;28mself\u001b[39m\u001b[38;5;241m.\u001b[39m_tfidf\u001b[38;5;241m.\u001b[39mfit(X)\n\u001b[0;32m   2128\u001b[0m \u001b[38;5;66;03m# X is already a transformed view of raw_documents so\u001b[39;00m\n\u001b[0;32m   2129\u001b[0m \u001b[38;5;66;03m# we set copy to False\u001b[39;00m\n",
      "File \u001b[1;32m~\\anaconda3\\Lib\\site-packages\\sklearn\\base.py:1151\u001b[0m, in \u001b[0;36m_fit_context.<locals>.decorator.<locals>.wrapper\u001b[1;34m(estimator, *args, **kwargs)\u001b[0m\n\u001b[0;32m   1144\u001b[0m     estimator\u001b[38;5;241m.\u001b[39m_validate_params()\n\u001b[0;32m   1146\u001b[0m \u001b[38;5;28;01mwith\u001b[39;00m config_context(\n\u001b[0;32m   1147\u001b[0m     skip_parameter_validation\u001b[38;5;241m=\u001b[39m(\n\u001b[0;32m   1148\u001b[0m         prefer_skip_nested_validation \u001b[38;5;129;01mor\u001b[39;00m global_skip_validation\n\u001b[0;32m   1149\u001b[0m     )\n\u001b[0;32m   1150\u001b[0m ):\n\u001b[1;32m-> 1151\u001b[0m     \u001b[38;5;28;01mreturn\u001b[39;00m fit_method(estimator, \u001b[38;5;241m*\u001b[39margs, \u001b[38;5;241m*\u001b[39m\u001b[38;5;241m*\u001b[39mkwargs)\n",
      "File \u001b[1;32m~\\anaconda3\\Lib\\site-packages\\sklearn\\feature_extraction\\text.py:1383\u001b[0m, in \u001b[0;36mCountVectorizer.fit_transform\u001b[1;34m(self, raw_documents, y)\u001b[0m\n\u001b[0;32m   1375\u001b[0m             warnings\u001b[38;5;241m.\u001b[39mwarn(\n\u001b[0;32m   1376\u001b[0m                 \u001b[38;5;124m\"\u001b[39m\u001b[38;5;124mUpper case characters found in\u001b[39m\u001b[38;5;124m\"\u001b[39m\n\u001b[0;32m   1377\u001b[0m                 \u001b[38;5;124m\"\u001b[39m\u001b[38;5;124m vocabulary while \u001b[39m\u001b[38;5;124m'\u001b[39m\u001b[38;5;124mlowercase\u001b[39m\u001b[38;5;124m'\u001b[39m\u001b[38;5;124m\"\u001b[39m\n\u001b[0;32m   1378\u001b[0m                 \u001b[38;5;124m\"\u001b[39m\u001b[38;5;124m is True. These entries will not\u001b[39m\u001b[38;5;124m\"\u001b[39m\n\u001b[0;32m   1379\u001b[0m                 \u001b[38;5;124m\"\u001b[39m\u001b[38;5;124m be matched with any documents\u001b[39m\u001b[38;5;124m\"\u001b[39m\n\u001b[0;32m   1380\u001b[0m             )\n\u001b[0;32m   1381\u001b[0m             \u001b[38;5;28;01mbreak\u001b[39;00m\n\u001b[1;32m-> 1383\u001b[0m vocabulary, X \u001b[38;5;241m=\u001b[39m \u001b[38;5;28mself\u001b[39m\u001b[38;5;241m.\u001b[39m_count_vocab(raw_documents, \u001b[38;5;28mself\u001b[39m\u001b[38;5;241m.\u001b[39mfixed_vocabulary_)\n\u001b[0;32m   1385\u001b[0m \u001b[38;5;28;01mif\u001b[39;00m \u001b[38;5;28mself\u001b[39m\u001b[38;5;241m.\u001b[39mbinary:\n\u001b[0;32m   1386\u001b[0m     X\u001b[38;5;241m.\u001b[39mdata\u001b[38;5;241m.\u001b[39mfill(\u001b[38;5;241m1\u001b[39m)\n",
      "File \u001b[1;32m~\\anaconda3\\Lib\\site-packages\\sklearn\\feature_extraction\\text.py:1270\u001b[0m, in \u001b[0;36mCountVectorizer._count_vocab\u001b[1;34m(self, raw_documents, fixed_vocab)\u001b[0m\n\u001b[0;32m   1268\u001b[0m \u001b[38;5;28;01mfor\u001b[39;00m doc \u001b[38;5;129;01min\u001b[39;00m raw_documents:\n\u001b[0;32m   1269\u001b[0m     feature_counter \u001b[38;5;241m=\u001b[39m {}\n\u001b[1;32m-> 1270\u001b[0m     \u001b[38;5;28;01mfor\u001b[39;00m feature \u001b[38;5;129;01min\u001b[39;00m analyze(doc):\n\u001b[0;32m   1271\u001b[0m         \u001b[38;5;28;01mtry\u001b[39;00m:\n\u001b[0;32m   1272\u001b[0m             feature_idx \u001b[38;5;241m=\u001b[39m vocabulary[feature]\n",
      "File \u001b[1;32m~\\anaconda3\\Lib\\site-packages\\sklearn\\feature_extraction\\text.py:110\u001b[0m, in \u001b[0;36m_analyze\u001b[1;34m(doc, analyzer, tokenizer, ngrams, preprocessor, decoder, stop_words)\u001b[0m\n\u001b[0;32m    108\u001b[0m \u001b[38;5;28;01melse\u001b[39;00m:\n\u001b[0;32m    109\u001b[0m     \u001b[38;5;28;01mif\u001b[39;00m preprocessor \u001b[38;5;129;01mis\u001b[39;00m \u001b[38;5;129;01mnot\u001b[39;00m \u001b[38;5;28;01mNone\u001b[39;00m:\n\u001b[1;32m--> 110\u001b[0m         doc \u001b[38;5;241m=\u001b[39m preprocessor(doc)\n\u001b[0;32m    111\u001b[0m     \u001b[38;5;28;01mif\u001b[39;00m tokenizer \u001b[38;5;129;01mis\u001b[39;00m \u001b[38;5;129;01mnot\u001b[39;00m \u001b[38;5;28;01mNone\u001b[39;00m:\n\u001b[0;32m    112\u001b[0m         doc \u001b[38;5;241m=\u001b[39m tokenizer(doc)\n",
      "File \u001b[1;32m~\\anaconda3\\Lib\\site-packages\\sklearn\\feature_extraction\\text.py:68\u001b[0m, in \u001b[0;36m_preprocess\u001b[1;34m(doc, accent_function, lower)\u001b[0m\n\u001b[0;32m     49\u001b[0m \u001b[38;5;250m\u001b[39m\u001b[38;5;124;03m\"\"\"Chain together an optional series of text preprocessing steps to\u001b[39;00m\n\u001b[0;32m     50\u001b[0m \u001b[38;5;124;03mapply to a document.\u001b[39;00m\n\u001b[0;32m     51\u001b[0m \n\u001b[1;32m   (...)\u001b[0m\n\u001b[0;32m     65\u001b[0m \u001b[38;5;124;03m    preprocessed string\u001b[39;00m\n\u001b[0;32m     66\u001b[0m \u001b[38;5;124;03m\"\"\"\u001b[39;00m\n\u001b[0;32m     67\u001b[0m \u001b[38;5;28;01mif\u001b[39;00m lower:\n\u001b[1;32m---> 68\u001b[0m     doc \u001b[38;5;241m=\u001b[39m doc\u001b[38;5;241m.\u001b[39mlower()\n\u001b[0;32m     69\u001b[0m \u001b[38;5;28;01mif\u001b[39;00m accent_function \u001b[38;5;129;01mis\u001b[39;00m \u001b[38;5;129;01mnot\u001b[39;00m \u001b[38;5;28;01mNone\u001b[39;00m:\n\u001b[0;32m     70\u001b[0m     doc \u001b[38;5;241m=\u001b[39m accent_function(doc)\n",
      "\u001b[1;31mAttributeError\u001b[0m: 'list' object has no attribute 'lower'"
     ]
    }
   ],
   "source": [
    "# Join tokenized words into sentences for each document\n",
    "X_train_sentences = [' '.join(words) for words in X_train]\n",
    "X_test_sentences = [' '.join(words) for words in X_test]\n",
    "\n",
    "# Initialize TF-IDF vectorizer and transform the data\n",
    "tfidf_vectorizer = TfidfVectorizer()\n",
    "X_train_tfidf = tfidf_vectorizer.fit_transform(X_train_sentences)\n",
    "X_test_tfidf = tfidf_vectorizer.transform(X_test_sentences)\n",
    "\n",
    "# Output the dimensions of the TF-IDF matrices\n",
    "print(\"Dimensi matriks TF-IDF untuk data pelatihan:\", X_train_tfidf.shape)\n",
    "print(\"Dimensi matriks TF-IDF untuk data pengujian:\", X_test_tfidf.shape)"
   ]
  },
  {
   "cell_type": "code",
   "execution_count": null,
   "id": "4455058a",
   "metadata": {},
   "outputs": [],
   "source": [
    "# INISIALISASI DAN PELATIHAN MODEL REGRESI LOGISTIK MULTINOMIAL\n",
    "logreg_model = LogisticRegression(multi_class='multinomial', solver='lbfgs')\n",
    "logreg_model.fit(X_train_tfidf, y_train)"
   ]
  },
  {
   "cell_type": "code",
   "execution_count": null,
   "id": "75f282e7",
   "metadata": {},
   "outputs": [],
   "source": [
    "# EVALUASI MODEL\n",
    "y_pred = logreg_model.predict(X_test_tfidf)\n",
    "accuracy = accuracy_score(y_test, y_pred)\n",
    "precision = precision_score(y_test, y_pred, average='weighted', zero_division=1)\n",
    "recall = recall_score(y_test, y_pred, average='weighted', zero_division=1)\n",
    "print(\"Akurasi model regresi logistik multinomial:\", accuracy)\n",
    "print(\"Presisi model regresi logistik multinomial:\", precision)\n",
    "print(\"Recall model regresi logistik multinomial:\", recall)\n",
    "\n",
    "# SIMPAN MODEL KE DALAM FILE\n",
    "joblib.dump(logreg_model, \"model.pkl\")\n",
    "print(\"Model berhasil disimpan dalam file 'model.pkl'.\")"
   ]
  },
  {
   "cell_type": "code",
   "execution_count": null,
   "id": "f4f8056d",
   "metadata": {},
   "outputs": [],
   "source": [
    "from nltk.corpus import stopwords\n",
    "from Sastrawi.Stemmer.StemmerFactory import StemmerFactory\n",
    "from nltk.tokenize import word_tokenize\n",
    "\n",
    "# Load model yang sudah dilatih\n",
    "logreg_model = joblib.load(\"model100.pkl\")\n",
    "\n",
    "# Fungsi untuk membersihkan teks\n",
    "def clean_text(text, stopwords_indo):\n",
    "    factory = StemmerFactory()\n",
    "    stemmer = factory.create_stemmer()\n",
    "    text = text.lower()  # Case folding\n",
    "    words = word_tokenize(text)  # Tokenizing\n",
    "    cleaned_words = [word for word in words if word not in stopwords_indo]  # Stopword removal\n",
    "    stemmed_words = [stemmer.stem(word) for word in cleaned_words]  # Stemming\n",
    "    return \" \".join(stemmed_words)\n",
    "\n",
    "# Fungsi untuk melakukan klasifikasi teks\n",
    "def classify_text(input_text, tfidf_vectorizer, stopwords_indo):\n",
    "    # Membersihkan teks input\n",
    "    cleaned_text = clean_text(input_text, stopwords_indo)\n",
    "    # Mengubah teks input menjadi vektor fitur menggunakan TF-IDF\n",
    "    input_vector = tfidf_vectorizer.transform([cleaned_text])\n",
    "    # Melakukan prediksi menggunakan model\n",
    "    predicted_label = logreg_model.predict(input_vector)[0]\n",
    "    if predicted_label == 'Positif':\n",
    "        return \"Kalimat termasuk dalam kategori: Positif\"\n",
    "    elif predicted_label == 'Negatif':\n",
    "        return \"Kalimat termasuk dalam kategori: Negatif\"\n",
    "    else:\n",
    "        return \"Kalimat termasuk dalam kategori: Netral\"\n",
    "\n",
    "# Contoh penggunaan\n",
    "input_text = \"Perpustakaan ini sangat bagus saya suka belajar di sini tapi buku nya kurang banyak\"\n",
    "result = classify_text(input_text, tfidf_vectorizer, stopwords_indo)\n",
    "print(result)"
   ]
  }
 ],
 "metadata": {
  "kernelspec": {
   "display_name": "Python 3 (ipykernel)",
   "language": "python",
   "name": "python3"
  },
  "language_info": {
   "codemirror_mode": {
    "name": "ipython",
    "version": 3
   },
   "file_extension": ".py",
   "mimetype": "text/x-python",
   "name": "python",
   "nbconvert_exporter": "python",
   "pygments_lexer": "ipython3",
   "version": "3.11.5"
  }
 },
 "nbformat": 4,
 "nbformat_minor": 5
}
