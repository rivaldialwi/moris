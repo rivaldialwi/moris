{
 "cells": [
  {
   "cell_type": "code",
   "execution_count": null,
   "id": "642f5554",
   "metadata": {},
   "outputs": [],
   "source": [
    "import pandas as pd\n",
    "\n",
    "# Membaca data dari CSV\n",
    "data = pd.read_csv('data.csv')\n",
    "\n",
    "# Mengonversi huruf menjadi huruf kecil pada kolom 'Human'\n",
    "data['Human'] = data['Human'].str.lower()\n",
    "\n",
    "# Menyimpan data ke dalam file CSV\n",
    "data.to_csv('data_terkonversi.csv', index=False)\n",
    "\n",
    "# Menampilkan data yang telah dikonversi\n",
    "print(data)"
   ]
  }
 ],
 "metadata": {
  "kernelspec": {
   "display_name": "Python 3 (ipykernel)",
   "language": "python",
   "name": "python3"
  },
  "language_info": {
   "codemirror_mode": {
    "name": "ipython",
    "version": 3
   },
   "file_extension": ".py",
   "mimetype": "text/x-python",
   "name": "python",
   "nbconvert_exporter": "python",
   "pygments_lexer": "ipython3",
   "version": "3.11.5"
  }
 },
 "nbformat": 4,
 "nbformat_minor": 5
}
